{
 "cells": [
  {
   "cell_type": "code",
   "execution_count": 6,
   "id": "0a9daf67",
   "metadata": {},
   "outputs": [],
   "source": [
    "import requests\n",
    "import pandas as pd"
   ]
  },
  {
   "cell_type": "code",
   "execution_count": 3,
   "id": "9b3d2b3e",
   "metadata": {},
   "outputs": [],
   "source": [
    "url = \"https://mo.centanet.com/Transaction/Index?isFrame=&FArea=&Name=&FileType=%E4%BD%8F%E5%AE%85&PropType=S&TitleName=2025%E5%B9%B4&BeginTxDate=2025-01-01&EndTxDate=2025-5-8&DateValue=2025&DataType=Y&OrderBy=\""
   ]
  },
  {
   "cell_type": "code",
   "execution_count": 4,
   "id": "4807c024",
   "metadata": {},
   "outputs": [
    {
     "data": {
      "text/plain": [
       "<Response [200]>"
      ]
     },
     "execution_count": 4,
     "metadata": {},
     "output_type": "execute_result"
    }
   ],
   "source": [
    "res = requests.get(url)\n",
    "res"
   ]
  },
  {
   "cell_type": "code",
   "execution_count": 5,
   "id": "c78f4a94",
   "metadata": {},
   "outputs": [
    {
     "data": {
      "text/plain": [
       "True"
      ]
     },
     "execution_count": 5,
     "metadata": {},
     "output_type": "execute_result"
    }
   ],
   "source": [
    "\"百利寶花園\" in res.text"
   ]
  },
  {
   "cell_type": "code",
   "execution_count": null,
   "id": "4d88302d",
   "metadata": {},
   "outputs": [
    {
     "name": "stderr",
     "output_type": "stream",
     "text": [
      "C:\\Users\\in64-04-2025-cm\\AppData\\Local\\Temp\\ipykernel_20784\\2227941059.py:1: FutureWarning: Passing literal html to 'read_html' is deprecated and will be removed in a future version. To read from a literal string, wrap it in a 'StringIO' object.\n",
      "  df = pd.read_html(res.text)\n"
     ]
    },
    {
     "data": {
      "text/plain": [
       "[    城區          片區  性質        樓宇名稱            單位 建築面積(呎) 租/售        成交價  \\\n",
       " 0   澳門         下環區  住宅        榮昌大廈          低層B室    737呎   售    $ 218 萬   \n",
       " 1   澳門     黑沙環及祐漢區  住宅  錦繡花園(黑沙環區)          高層B室    810呎   售    $ 398 萬   \n",
       " 2   氹仔       氹仔中心區  住宅        寶龍花園      銀龍閣中層AH室  1,245呎   售    $ 480 萬   \n",
       " 3   澳門  外港及南灣湖新填海區  住宅        壹號湖畔        6座中層A室  2,265呎   售  $ 1,540 萬   \n",
       " 4   澳門  外港及南灣湖新填海區  住宅        壹號湖畔        6座中層A室  2,265呎   售  $ 1,540 萬   \n",
       " 5   澳門     黑沙環新填海區  住宅         海天居        4座低層A室  1,475呎   售    $ 880 萬   \n",
       " 6   澳門    沙梨頭及大三巴區  住宅        嘉誠大廈          高層B室    729呎   售    $ 120 萬   \n",
       " 7   氹仔       氹仔中心區  住宅        華寶花園        4座中層W室  1,152呎   售    $ 510 萬   \n",
       " 8   氹仔       氹仔中心區  住宅       百利寶花園        3座低層M室  1,713呎   售    $ 708 萬   \n",
       " 9   澳門     黑沙環及祐漢區  住宅        南暉大廈        2座中層Q室    857呎   售    $ 485 萬   \n",
       " 10  澳門     黑沙環新填海區  住宅        寰宇天下        5座中層D室  1,709呎   售    $ 950 萬   \n",
       " 11  澳門     黑沙環新填海區  住宅       金海山花園       12座中層G室    828呎   售    $ 350 萬   \n",
       " 12  澳門      望廈及水塘區  住宅        海景豪園        2座低層G室  1,682呎   售    $ 680 萬   \n",
       " 13  澳門     黑沙環新填海區  住宅        海濱花園       12座中層A室    800呎   售    $ 310 萬   \n",
       " 14  澳門        新口岸區  住宅        國際中心        8座高層B室  1,518呎   售    $ 398 萬   \n",
       " 15  路環          路環  住宅        金峰名鑄       御金峰低層A室  1,049呎   售    $ 783 萬   \n",
       " 16  氹仔       氹仔中心區  住宅        濠庭都會       12座中層A室  1,081呎   售    $ 650 萬   \n",
       " 17  路環          路環  住宅        金峰名匯        1座高層E室    621呎   售    $ 358 萬   \n",
       " 18  氹仔       氹仔中心區  住宅          濠尚  濠尚(第七座)-中層F室    517呎   售    $ 458 萬   \n",
       " 19  澳門        林茂塘區  住宅         海擎天        1座中層B室  1,239呎   售    $ 850 萬   \n",
       " \n",
       "         平均呎價    市場      成交月份  \n",
       " 0   $2,958/呎    二手  2025年04月  \n",
       " 1   $4,914/呎    二手  2025年04月  \n",
       " 2   $3,855/呎  二手樓盤  2025年04月  \n",
       " 3   $6,799/呎  二手樓盤  2025年04月  \n",
       " 4   $6,799/呎  二手樓盤  2025年04月  \n",
       " 5   $5,966/呎  二手樓盤  2025年04月  \n",
       " 6   $1,646/呎  二手樓盤  2025年04月  \n",
       " 7   $4,427/呎  二手樓盤  2025年04月  \n",
       " 8   $4,133/呎  二手樓盤  2025年04月  \n",
       " 9   $5,659/呎  二手樓盤  2025年04月  \n",
       " 10  $5,559/呎  二手樓盤  2025年04月  \n",
       " 11  $4,227/呎  二手樓盤  2025年04月  \n",
       " 12  $4,043/呎  二手樓盤  2025年04月  \n",
       " 13  $3,875/呎  二手樓盤  2025年04月  \n",
       " 14  $2,622/呎  二手樓盤  2025年04月  \n",
       " 15  $7,464/呎  二手樓盤  2025年04月  \n",
       " 16  $6,013/呎  二手樓盤  2025年04月  \n",
       " 17  $5,765/呎  二手樓盤  2025年04月  \n",
       " 18  $8,859/呎    二手  2025年03月  \n",
       " 19  $6,860/呎  二手樓盤  2025年03月  ]"
      ]
     },
     "execution_count": 8,
     "metadata": {},
     "output_type": "execute_result"
    }
   ],
   "source": [
    "tables = pd.read_html(res.text)\n",
    "df = tables[0]\n",
    "df"
   ]
  },
  {
   "cell_type": "code",
   "execution_count": null,
   "id": "3560c420",
   "metadata": {},
   "outputs": [],
   "source": []
  }
 ],
 "metadata": {
  "kernelspec": {
   "display_name": "base",
   "language": "python",
   "name": "python3"
  },
  "language_info": {
   "codemirror_mode": {
    "name": "ipython",
    "version": 3
   },
   "file_extension": ".py",
   "mimetype": "text/x-python",
   "name": "python",
   "nbconvert_exporter": "python",
   "pygments_lexer": "ipython3",
   "version": "3.11.7"
  }
 },
 "nbformat": 4,
 "nbformat_minor": 5
}
